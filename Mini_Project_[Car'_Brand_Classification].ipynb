{
  "nbformat": 4,
  "nbformat_minor": 0,
  "metadata": {
    "colab": {
      "provenance": [],
      "gpuType": "T4"
    },
    "kernelspec": {
      "name": "python3",
      "display_name": "Python 3"
    },
    "language_info": {
      "name": "python"
    },
    "accelerator": "GPU"
  },
  "cells": [
    {
      "cell_type": "markdown",
      "source": [
        "Install & import"
      ],
      "metadata": {
        "id": "nesrjE4vpPue"
      }
    },
    {
      "cell_type": "code",
      "source": [
        "!pip -q install tensorflow kagglehub matplotlib"
      ],
      "metadata": {
        "id": "VeEgpjIApNm3"
      },
      "execution_count": null,
      "outputs": []
    },
    {
      "cell_type": "code",
      "source": [
        "import os, shutil, random, re, pathlib\n",
        "from pathlib import Path\n",
        "import numpy as np\n",
        "import tensorflow as tf\n",
        "\n",
        "print(\"TensorFlow:\", tf.__version__)"
      ],
      "metadata": {
        "colab": {
          "base_uri": "https://localhost:8080/"
        },
        "id": "pOppYm6epNkx",
        "outputId": "258c4ef3-32c3-42c7-d895-c99d70a2f439"
      },
      "execution_count": null,
      "outputs": [
        {
          "output_type": "stream",
          "name": "stdout",
          "text": [
            "TensorFlow: 2.19.0\n"
          ]
        }
      ]
    },
    {
      "cell_type": "markdown",
      "source": [
        "Base Directory\n"
      ],
      "metadata": {
        "id": "ItYy0noYpcy3"
      }
    },
    {
      "cell_type": "code",
      "source": [
        "WORKDIR = Path(\"/content/work\")\n",
        "DATA_RAW = WORKDIR / \"raw\"\n",
        "DATA_SMALL = WORKDIR / \"small\"\n",
        "ARTIFACTS = WORKDIR / \"artifacts\"\n",
        "for p in [WORKDIR, DATA_RAW, DATA_SMALL, ARTIFACTS]:\n",
        "    p.mkdir(parents=True, exist_ok=True)"
      ],
      "metadata": {
        "id": "LFUDT22qpNiM"
      },
      "execution_count": null,
      "outputs": []
    },
    {
      "cell_type": "markdown",
      "source": [
        "Config\n"
      ],
      "metadata": {
        "id": "fNlqje82pnXt"
      }
    },
    {
      "cell_type": "code",
      "source": [
        "IMG_SIZE = 96         # more detail than 96\n",
        "BATCH_SIZE = 32\n",
        "EPOCHS = 40\n",
        "MAX_IMAGES_PER_CLASS = 400   # allow more data per class\n",
        "TOP_K_CLASSES = 10            # how many brands to keep (4–6 is good)\n",
        "SEED = 123\n",
        "tf.random.set_seed(SEED); random.seed(SEED); np.random.seed(SEED)\n"
      ],
      "metadata": {
        "id": "4kE-QriWpNfX"
      },
      "execution_count": null,
      "outputs": []
    },
    {
      "cell_type": "markdown",
      "source": [
        "Download dataset"
      ],
      "metadata": {
        "id": "KDYBFej-ps9P"
      }
    },
    {
      "cell_type": "code",
      "source": [
        "import kagglehub\n",
        "\n",
        "path = kagglehub.dataset_download(\"ahmedelsany/car-brand-classification-dataset\")\n",
        "print(\"Dataset path:\", path)\n",
        "\n",
        "DATASET_DIR = \"/kaggle/input/car-brand-classification-dataset/Car Brand Classification Dataset\"\n",
        "TRAIN_SRC = Path(DATASET_DIR + \"/train\")\n",
        "TEST_SRC = Path(DATASET_DIR + \"/test\")\n",
        "\n",
        "# Show classes\n",
        "print(\"Train classes:\", [d.name for d in TRAIN_SRC.iterdir() if d.is_dir()])"
      ],
      "metadata": {
        "colab": {
          "base_uri": "https://localhost:8080/"
        },
        "id": "lwxx2FXZpNdB",
        "outputId": "c408d01c-ae07-4fb9-8ef8-cf956387c58b"
      },
      "execution_count": null,
      "outputs": [
        {
          "output_type": "stream",
          "name": "stdout",
          "text": [
            "Using Colab cache for faster access to the 'car-brand-classification-dataset' dataset.\n",
            "Dataset path: /kaggle/input/car-brand-classification-dataset\n",
            "Train classes: ['Nissan', 'Ford', 'Hyundai', 'Mercedes-Benz', 'Chrysler', 'GMC', 'Lincoln', 'FIAT', 'Aston Martin', 'Volkswagen', 'Land Rover', 'Buick', 'Honda', 'Dodge', 'Porsche', 'Kia', 'Toyota', 'Jeep', 'Volvo', 'Mitsubishi', 'Cadillac', 'Chevrolet', 'Jaguar', 'Bentley', 'BMW', 'Lexus', 'Audi', 'INFINITI', 'Acura', 'Subaru', 'Mazda', 'Ram', 'MINI']\n"
          ]
        }
      ]
    },
    {
      "cell_type": "markdown",
      "source": [
        "Build a smaller subset"
      ],
      "metadata": {
        "id": "cTzPHg2pq8q6"
      }
    },
    {
      "cell_type": "code",
      "source": [
        "from collections import Counter\n",
        "\n",
        "def ensure_empty_dir(p: Path):\n",
        "    if p.exists(): shutil.rmtree(p)\n",
        "    p.mkdir(parents=True, exist_ok=True)\n",
        "\n",
        "def class_counts(root: Path):\n",
        "    cnt = {}\n",
        "    for d in sorted([x for x in root.iterdir() if x.is_dir()], key=lambda p: p.name.lower()):\n",
        "        imgs = list(d.glob(\"*.jpg\")) + list(d.glob(\"*.png\")) + list(d.glob(\"*.jpeg\"))\n",
        "        cnt[d.name] = len(imgs)\n",
        "    return cnt\n",
        "\n",
        "# count classes in original train\n",
        "train_cnt = class_counts(TRAIN_SRC)\n",
        "#top = [c for c,_ in Counter(train_cnt).most_common()][:TOP_K_CLASSES]\n",
        "top = ['Mercedes-Benz', 'Porsche', 'MINI']\n",
        "print(\"Top classes:\", top)\n",
        "\n",
        "def collect_images_for(cls_name, src_root: Path):\n",
        "    d = src_root/cls_name\n",
        "    return list(d.glob(\"*.jpg\")) + list(d.glob(\"*.png\")) + list(d.glob(\"*.jpeg\"))\n",
        "\n",
        "ensure_empty_dir(DATA_SMALL)\n",
        "for sp in [\"train\",\"val\",\"test\"]:\n",
        "    (DATA_SMALL/sp).mkdir(parents=True, exist_ok=True)\n",
        "\n",
        "for cname in top:\n",
        "    # gather\n",
        "    train_imgs = collect_images_for(cname, TRAIN_SRC)\n",
        "    test_imgs  = collect_images_for(cname, TEST_SRC)\n",
        "\n",
        "    # cap & split train→(train/val/test)\n",
        "    random.shuffle(train_imgs)\n",
        "    train_imgs = train_imgs[:MAX_IMAGES_PER_CLASS*3]\n",
        "    n_train = int(0.7*len(train_imgs))\n",
        "    n_val = int(0.15*len(train_imgs))\n",
        "    splits = {\n",
        "        \"train\": train_imgs[:n_train],\n",
        "        \"val\": train_imgs[n_train:n_train+n_val],\n",
        "        \"test\": train_imgs[n_train+n_val:]\n",
        "    }\n",
        "    # add extra test from original TEST\n",
        "    if test_imgs:\n",
        "        extra = random.sample(test_imgs, min(len(test_imgs), MAX_IMAGES_PER_CLASS))\n",
        "        splits[\"test\"] += extra\n",
        "\n",
        "    # copy\n",
        "    for sp, arr in splits.items():\n",
        "        out = DATA_SMALL/sp/cname\n",
        "        out.mkdir(parents=True, exist_ok=True)\n",
        "        for src in arr:\n",
        "            shutil.copy2(src, out/src.name)\n",
        "\n",
        "for sp in [\"train\",\"val\",\"test\"]:\n",
        "    print(sp, \"classes:\", [d.name for d in (DATA_SMALL/sp).iterdir()])\n"
      ],
      "metadata": {
        "colab": {
          "base_uri": "https://localhost:8080/"
        },
        "id": "zz7vJ6tupNaj",
        "outputId": "1024a43d-0ac9-4dfc-f9a4-e65e5dd92ed6"
      },
      "execution_count": null,
      "outputs": [
        {
          "output_type": "stream",
          "name": "stdout",
          "text": [
            "Top classes: ['Mercedes-Benz', 'Porsche', 'MINI']\n",
            "train classes: ['MINI', 'Mercedes-Benz', 'Porsche']\n",
            "val classes: ['MINI', 'Mercedes-Benz', 'Porsche']\n",
            "test classes: ['MINI', 'Mercedes-Benz', 'Porsche']\n"
          ]
        }
      ]
    },
    {
      "cell_type": "markdown",
      "source": [
        "Pre-processing\n"
      ],
      "metadata": {
        "id": "osH_nZX5reah"
      }
    },
    {
      "cell_type": "code",
      "source": [
        "IMG_SHAPE = (IMG_SIZE, IMG_SIZE)\n",
        "AUTOTUNE = tf.data.AUTOTUNE\n",
        "\n",
        "train_ds = tf.keras.utils.image_dataset_from_directory(\n",
        "    DATA_SMALL/\"train\", image_size=IMG_SHAPE, batch_size=BATCH_SIZE,\n",
        "    label_mode=\"int\", seed=SEED, shuffle=True)\n",
        "val_ds = tf.keras.utils.image_dataset_from_directory(\n",
        "    DATA_SMALL/\"val\", image_size=IMG_SHAPE, batch_size=BATCH_SIZE,\n",
        "    label_mode=\"int\", seed=SEED, shuffle=False)\n",
        "test_ds = tf.keras.utils.image_dataset_from_directory(\n",
        "    DATA_SMALL/\"test\", image_size=IMG_SHAPE, batch_size=BATCH_SIZE,\n",
        "    label_mode=\"int\", seed=SEED, shuffle=False)\n",
        "\n",
        "class_names = train_ds.class_names\n",
        "NUM_CLASSES = len(class_names)\n",
        "print(\"Classes:\", class_names)\n",
        "\n",
        "normalizer = tf.keras.layers.Rescaling(1./255)\n",
        "augment = tf.keras.Sequential([\n",
        "    tf.keras.layers.RandomFlip(\"horizontal\"),\n",
        "    tf.keras.layers.RandomRotation(0.08),\n",
        "    tf.keras.layers.RandomZoom(0.15),\n",
        "    tf.keras.layers.RandomContrast(0.15),\n",
        "])\n",
        "\n",
        "def prepare(ds, training=False):\n",
        "    ds = ds.map(lambda x,y: (normalizer(x), y), num_parallel_calls=AUTOTUNE)\n",
        "    if training:\n",
        "        ds = ds.map(lambda x,y: (augment(x, training=True), y), num_parallel_calls=AUTOTUNE)\n",
        "    return ds.shuffle(1024) if training else ds\n",
        "\n",
        "train_ds2 = prepare(train_ds, True).prefetch(AUTOTUNE)\n",
        "val_ds2   = prepare(val_ds, False).cache().prefetch(AUTOTUNE)\n",
        "test_ds2  = prepare(test_ds, False).cache().prefetch(AUTOTUNE)\n"
      ],
      "metadata": {
        "colab": {
          "base_uri": "https://localhost:8080/"
        },
        "id": "QE5jm-2jpNYI",
        "outputId": "3d6fda13-9082-4d74-be23-e90cdfaa1c7e"
      },
      "execution_count": null,
      "outputs": [
        {
          "output_type": "stream",
          "name": "stdout",
          "text": [
            "Found 732 files belonging to 3 classes.\n",
            "Found 156 files belonging to 3 classes.\n",
            "Found 384 files belonging to 3 classes.\n",
            "Classes: ['MINI', 'Mercedes-Benz', 'Porsche']\n"
          ]
        }
      ]
    },
    {
      "cell_type": "markdown",
      "source": [
        "Model"
      ],
      "metadata": {
        "id": "ejjc799arkfs"
      }
    },
    {
      "cell_type": "code",
      "source": [
        "from tensorflow.keras import layers, models\n",
        "\n",
        "def smooth_sparse_labels(y_true, num_classes, smoothing=0.05):\n",
        "    y_true = tf.one_hot(tf.cast(y_true, tf.int32), num_classes)\n",
        "    smooth = y_true * (1 - smoothing) + (smoothing / num_classes)\n",
        "    return smooth\n",
        "\n",
        "loss_fn = lambda y_true, y_pred: tf.keras.losses.categorical_crossentropy(\n",
        "    smooth_sparse_labels(y_true, NUM_CLASSES, 0.05), y_pred\n",
        ")\n",
        "\n",
        "base = tf.keras.applications.MobileNetV2(\n",
        "    input_shape=(IMG_SIZE, IMG_SIZE, 3),\n",
        "    include_top=False,\n",
        "    weights=\"imagenet\",\n",
        "    alpha=0.5  # 0.35–0.5 keeps it small; raise to 0.75 if you can afford size\n",
        ")\n",
        "\n",
        "base.trainable = False  # first warmup\n",
        "inputs = layers.Input(shape=(IMG_SIZE, IMG_SIZE, 3))\n",
        "x = inputs\n",
        "x = tf.keras.applications.mobilenet_v2.preprocess_input(x * 255.0)  # expects [-1,1]\n",
        "x = base(x, training=False)\n",
        "x = layers.GlobalAveragePooling2D()(x)\n",
        "x = layers.Dropout(0.2)(x)\n",
        "outputs = layers.Dense(NUM_CLASSES, activation=\"softmax\")(x)\n",
        "model = models.Model(inputs, outputs)\n",
        "\n",
        "# cosine decay, label smoothing helps\n",
        "steps_per_epoch = tf.data.experimental.cardinality(train_ds2).numpy()\n",
        "lr = tf.keras.optimizers.schedules.CosineDecayRestarts(1e-3, first_decay_steps=max(steps_per_epoch*5, 100))\n",
        "model.compile(optimizer=tf.keras.optimizers.Adam(lr),\n",
        "              loss=loss_fn,\n",
        "              metrics=[\"accuracy\"])\n",
        "model.summary()"
      ],
      "metadata": {
        "colab": {
          "base_uri": "https://localhost:8080/",
          "height": 417
        },
        "id": "X14fu-AzpNVZ",
        "outputId": "cb314f9e-6114-47e8-b9ad-32e970646eb8"
      },
      "execution_count": null,
      "outputs": [
        {
          "output_type": "display_data",
          "data": {
            "text/plain": [
              "\u001b[1mModel: \"functional_4\"\u001b[0m\n"
            ],
            "text/html": [
              "<pre style=\"white-space:pre;overflow-x:auto;line-height:normal;font-family:Menlo,'DejaVu Sans Mono',consolas,'Courier New',monospace\"><span style=\"font-weight: bold\">Model: \"functional_4\"</span>\n",
              "</pre>\n"
            ]
          },
          "metadata": {}
        },
        {
          "output_type": "display_data",
          "data": {
            "text/plain": [
              "┏━━━━━━━━━━━━━━━━━━━━━━━━━━━━━━━━━┳━━━━━━━━━━━━━━━━━━━━━━━━┳━━━━━━━━━━━━━━━┓\n",
              "┃\u001b[1m \u001b[0m\u001b[1mLayer (type)                   \u001b[0m\u001b[1m \u001b[0m┃\u001b[1m \u001b[0m\u001b[1mOutput Shape          \u001b[0m\u001b[1m \u001b[0m┃\u001b[1m \u001b[0m\u001b[1m      Param #\u001b[0m\u001b[1m \u001b[0m┃\n",
              "┡━━━━━━━━━━━━━━━━━━━━━━━━━━━━━━━━━╇━━━━━━━━━━━━━━━━━━━━━━━━╇━━━━━━━━━━━━━━━┩\n",
              "│ input_layer_7 (\u001b[38;5;33mInputLayer\u001b[0m)      │ (\u001b[38;5;45mNone\u001b[0m, \u001b[38;5;34m96\u001b[0m, \u001b[38;5;34m96\u001b[0m, \u001b[38;5;34m3\u001b[0m)      │             \u001b[38;5;34m0\u001b[0m │\n",
              "├─────────────────────────────────┼────────────────────────┼───────────────┤\n",
              "│ multiply_2 (\u001b[38;5;33mMultiply\u001b[0m)           │ (\u001b[38;5;45mNone\u001b[0m, \u001b[38;5;34m96\u001b[0m, \u001b[38;5;34m96\u001b[0m, \u001b[38;5;34m3\u001b[0m)      │             \u001b[38;5;34m0\u001b[0m │\n",
              "├─────────────────────────────────┼────────────────────────┼───────────────┤\n",
              "│ true_divide_2 (\u001b[38;5;33mTrueDivide\u001b[0m)      │ (\u001b[38;5;45mNone\u001b[0m, \u001b[38;5;34m96\u001b[0m, \u001b[38;5;34m96\u001b[0m, \u001b[38;5;34m3\u001b[0m)      │             \u001b[38;5;34m0\u001b[0m │\n",
              "├─────────────────────────────────┼────────────────────────┼───────────────┤\n",
              "│ subtract_2 (\u001b[38;5;33mSubtract\u001b[0m)           │ (\u001b[38;5;45mNone\u001b[0m, \u001b[38;5;34m96\u001b[0m, \u001b[38;5;34m96\u001b[0m, \u001b[38;5;34m3\u001b[0m)      │             \u001b[38;5;34m0\u001b[0m │\n",
              "├─────────────────────────────────┼────────────────────────┼───────────────┤\n",
              "│ mobilenetv2_0.50_96             │ (\u001b[38;5;45mNone\u001b[0m, \u001b[38;5;34m3\u001b[0m, \u001b[38;5;34m3\u001b[0m, \u001b[38;5;34m1280\u001b[0m)     │       \u001b[38;5;34m706,224\u001b[0m │\n",
              "│ (\u001b[38;5;33mFunctional\u001b[0m)                    │                        │               │\n",
              "├─────────────────────────────────┼────────────────────────┼───────────────┤\n",
              "│ global_average_pooling2d_2      │ (\u001b[38;5;45mNone\u001b[0m, \u001b[38;5;34m1280\u001b[0m)           │             \u001b[38;5;34m0\u001b[0m │\n",
              "│ (\u001b[38;5;33mGlobalAveragePooling2D\u001b[0m)        │                        │               │\n",
              "├─────────────────────────────────┼────────────────────────┼───────────────┤\n",
              "│ dropout_2 (\u001b[38;5;33mDropout\u001b[0m)             │ (\u001b[38;5;45mNone\u001b[0m, \u001b[38;5;34m1280\u001b[0m)           │             \u001b[38;5;34m0\u001b[0m │\n",
              "├─────────────────────────────────┼────────────────────────┼───────────────┤\n",
              "│ dense_2 (\u001b[38;5;33mDense\u001b[0m)                 │ (\u001b[38;5;45mNone\u001b[0m, \u001b[38;5;34m3\u001b[0m)              │         \u001b[38;5;34m3,843\u001b[0m │\n",
              "└─────────────────────────────────┴────────────────────────┴───────────────┘\n"
            ],
            "text/html": [
              "<pre style=\"white-space:pre;overflow-x:auto;line-height:normal;font-family:Menlo,'DejaVu Sans Mono',consolas,'Courier New',monospace\">┏━━━━━━━━━━━━━━━━━━━━━━━━━━━━━━━━━┳━━━━━━━━━━━━━━━━━━━━━━━━┳━━━━━━━━━━━━━━━┓\n",
              "┃<span style=\"font-weight: bold\"> Layer (type)                    </span>┃<span style=\"font-weight: bold\"> Output Shape           </span>┃<span style=\"font-weight: bold\">       Param # </span>┃\n",
              "┡━━━━━━━━━━━━━━━━━━━━━━━━━━━━━━━━━╇━━━━━━━━━━━━━━━━━━━━━━━━╇━━━━━━━━━━━━━━━┩\n",
              "│ input_layer_7 (<span style=\"color: #0087ff; text-decoration-color: #0087ff\">InputLayer</span>)      │ (<span style=\"color: #00d7ff; text-decoration-color: #00d7ff\">None</span>, <span style=\"color: #00af00; text-decoration-color: #00af00\">96</span>, <span style=\"color: #00af00; text-decoration-color: #00af00\">96</span>, <span style=\"color: #00af00; text-decoration-color: #00af00\">3</span>)      │             <span style=\"color: #00af00; text-decoration-color: #00af00\">0</span> │\n",
              "├─────────────────────────────────┼────────────────────────┼───────────────┤\n",
              "│ multiply_2 (<span style=\"color: #0087ff; text-decoration-color: #0087ff\">Multiply</span>)           │ (<span style=\"color: #00d7ff; text-decoration-color: #00d7ff\">None</span>, <span style=\"color: #00af00; text-decoration-color: #00af00\">96</span>, <span style=\"color: #00af00; text-decoration-color: #00af00\">96</span>, <span style=\"color: #00af00; text-decoration-color: #00af00\">3</span>)      │             <span style=\"color: #00af00; text-decoration-color: #00af00\">0</span> │\n",
              "├─────────────────────────────────┼────────────────────────┼───────────────┤\n",
              "│ true_divide_2 (<span style=\"color: #0087ff; text-decoration-color: #0087ff\">TrueDivide</span>)      │ (<span style=\"color: #00d7ff; text-decoration-color: #00d7ff\">None</span>, <span style=\"color: #00af00; text-decoration-color: #00af00\">96</span>, <span style=\"color: #00af00; text-decoration-color: #00af00\">96</span>, <span style=\"color: #00af00; text-decoration-color: #00af00\">3</span>)      │             <span style=\"color: #00af00; text-decoration-color: #00af00\">0</span> │\n",
              "├─────────────────────────────────┼────────────────────────┼───────────────┤\n",
              "│ subtract_2 (<span style=\"color: #0087ff; text-decoration-color: #0087ff\">Subtract</span>)           │ (<span style=\"color: #00d7ff; text-decoration-color: #00d7ff\">None</span>, <span style=\"color: #00af00; text-decoration-color: #00af00\">96</span>, <span style=\"color: #00af00; text-decoration-color: #00af00\">96</span>, <span style=\"color: #00af00; text-decoration-color: #00af00\">3</span>)      │             <span style=\"color: #00af00; text-decoration-color: #00af00\">0</span> │\n",
              "├─────────────────────────────────┼────────────────────────┼───────────────┤\n",
              "│ mobilenetv2_0.50_96             │ (<span style=\"color: #00d7ff; text-decoration-color: #00d7ff\">None</span>, <span style=\"color: #00af00; text-decoration-color: #00af00\">3</span>, <span style=\"color: #00af00; text-decoration-color: #00af00\">3</span>, <span style=\"color: #00af00; text-decoration-color: #00af00\">1280</span>)     │       <span style=\"color: #00af00; text-decoration-color: #00af00\">706,224</span> │\n",
              "│ (<span style=\"color: #0087ff; text-decoration-color: #0087ff\">Functional</span>)                    │                        │               │\n",
              "├─────────────────────────────────┼────────────────────────┼───────────────┤\n",
              "│ global_average_pooling2d_2      │ (<span style=\"color: #00d7ff; text-decoration-color: #00d7ff\">None</span>, <span style=\"color: #00af00; text-decoration-color: #00af00\">1280</span>)           │             <span style=\"color: #00af00; text-decoration-color: #00af00\">0</span> │\n",
              "│ (<span style=\"color: #0087ff; text-decoration-color: #0087ff\">GlobalAveragePooling2D</span>)        │                        │               │\n",
              "├─────────────────────────────────┼────────────────────────┼───────────────┤\n",
              "│ dropout_2 (<span style=\"color: #0087ff; text-decoration-color: #0087ff\">Dropout</span>)             │ (<span style=\"color: #00d7ff; text-decoration-color: #00d7ff\">None</span>, <span style=\"color: #00af00; text-decoration-color: #00af00\">1280</span>)           │             <span style=\"color: #00af00; text-decoration-color: #00af00\">0</span> │\n",
              "├─────────────────────────────────┼────────────────────────┼───────────────┤\n",
              "│ dense_2 (<span style=\"color: #0087ff; text-decoration-color: #0087ff\">Dense</span>)                 │ (<span style=\"color: #00d7ff; text-decoration-color: #00d7ff\">None</span>, <span style=\"color: #00af00; text-decoration-color: #00af00\">3</span>)              │         <span style=\"color: #00af00; text-decoration-color: #00af00\">3,843</span> │\n",
              "└─────────────────────────────────┴────────────────────────┴───────────────┘\n",
              "</pre>\n"
            ]
          },
          "metadata": {}
        },
        {
          "output_type": "display_data",
          "data": {
            "text/plain": [
              "\u001b[1m Total params: \u001b[0m\u001b[38;5;34m710,067\u001b[0m (2.71 MB)\n"
            ],
            "text/html": [
              "<pre style=\"white-space:pre;overflow-x:auto;line-height:normal;font-family:Menlo,'DejaVu Sans Mono',consolas,'Courier New',monospace\"><span style=\"font-weight: bold\"> Total params: </span><span style=\"color: #00af00; text-decoration-color: #00af00\">710,067</span> (2.71 MB)\n",
              "</pre>\n"
            ]
          },
          "metadata": {}
        },
        {
          "output_type": "display_data",
          "data": {
            "text/plain": [
              "\u001b[1m Trainable params: \u001b[0m\u001b[38;5;34m3,843\u001b[0m (15.01 KB)\n"
            ],
            "text/html": [
              "<pre style=\"white-space:pre;overflow-x:auto;line-height:normal;font-family:Menlo,'DejaVu Sans Mono',consolas,'Courier New',monospace\"><span style=\"font-weight: bold\"> Trainable params: </span><span style=\"color: #00af00; text-decoration-color: #00af00\">3,843</span> (15.01 KB)\n",
              "</pre>\n"
            ]
          },
          "metadata": {}
        },
        {
          "output_type": "display_data",
          "data": {
            "text/plain": [
              "\u001b[1m Non-trainable params: \u001b[0m\u001b[38;5;34m706,224\u001b[0m (2.69 MB)\n"
            ],
            "text/html": [
              "<pre style=\"white-space:pre;overflow-x:auto;line-height:normal;font-family:Menlo,'DejaVu Sans Mono',consolas,'Courier New',monospace\"><span style=\"font-weight: bold\"> Non-trainable params: </span><span style=\"color: #00af00; text-decoration-color: #00af00\">706,224</span> (2.69 MB)\n",
              "</pre>\n"
            ]
          },
          "metadata": {}
        }
      ]
    },
    {
      "cell_type": "markdown",
      "source": [
        "Train"
      ],
      "metadata": {
        "id": "nqNlxppcrpsk"
      }
    },
    {
      "cell_type": "code",
      "source": [
        "ckpt_path = ARTIFACTS/\"best_tl.keras\"\n",
        "callbacks = [\n",
        "    tf.keras.callbacks.ModelCheckpoint(ckpt_path, save_best_only=True, monitor=\"val_accuracy\"),\n",
        "    tf.keras.callbacks.EarlyStopping(patience=6, restore_best_weights=True, monitor=\"val_accuracy\")\n",
        "]\n",
        "history = model.fit(train_ds2, validation_data=val_ds2, epochs=12, callbacks=callbacks)\n"
      ],
      "metadata": {
        "colab": {
          "base_uri": "https://localhost:8080/"
        },
        "id": "r6B-vCUWpNTG",
        "outputId": "1a1f8b8f-5888-4079-d9cb-949576943164"
      },
      "execution_count": null,
      "outputs": [
        {
          "output_type": "stream",
          "name": "stdout",
          "text": [
            "Epoch 1/12\n",
            "\u001b[1m23/23\u001b[0m \u001b[32m━━━━━━━━━━━━━━━━━━━━\u001b[0m\u001b[37m\u001b[0m \u001b[1m0s\u001b[0m 131ms/step - accuracy: 0.3172 - loss: 1.4602"
          ]
        },
        {
          "output_type": "stream",
          "name": "stderr",
          "text": [
            "/usr/local/lib/python3.12/dist-packages/keras/src/saving/serialization_lib.py:390: UserWarning: The object being serialized includes a `lambda`. This is unsafe. In order to reload the object, you will have to pass `safe_mode=False` to the loading function. Please avoid using `lambda` in the future, and use named Python functions instead. This is the `lambda` being serialized: loss_fn = lambda y_true, y_pred: tf.keras.losses.categorical_crossentropy(\n",
            "    smooth_sparse_labels(y_true, NUM_CLASSES, 0.05), y_pred\n",
            ")\n",
            "\n",
            "  return {key: serialize_keras_object(value) for key, value in obj.items()}\n"
          ]
        },
        {
          "output_type": "stream",
          "name": "stdout",
          "text": [
            "\b\b\b\b\b\b\b\b\b\b\b\b\b\b\b\b\b\b\b\b\b\b\b\b\b\b\b\b\b\b\b\b\b\b\b\b\b\b\b\b\b\b\b\b\b\b\b\b\b\b\b\b\b\b\b\b\b\b\b\b\b\b\b\b\b\b\b\b\b\b\b\b\b\b\r\u001b[1m23/23\u001b[0m \u001b[32m━━━━━━━━━━━━━━━━━━━━\u001b[0m\u001b[37m\u001b[0m \u001b[1m14s\u001b[0m 253ms/step - accuracy: 0.3179 - loss: 1.4566 - val_accuracy: 0.4103 - val_loss: 1.1578\n",
            "Epoch 2/12\n",
            "\u001b[1m23/23\u001b[0m \u001b[32m━━━━━━━━━━━━━━━━━━━━\u001b[0m\u001b[37m\u001b[0m \u001b[1m5s\u001b[0m 132ms/step - accuracy: 0.4738 - loss: 1.0918 - val_accuracy: 0.4359 - val_loss: 1.1401\n",
            "Epoch 3/12\n",
            "\u001b[1m23/23\u001b[0m \u001b[32m━━━━━━━━━━━━━━━━━━━━\u001b[0m\u001b[37m\u001b[0m \u001b[1m6s\u001b[0m 182ms/step - accuracy: 0.5386 - loss: 1.0142 - val_accuracy: 0.4808 - val_loss: 1.0830\n",
            "Epoch 4/12\n",
            "\u001b[1m23/23\u001b[0m \u001b[32m━━━━━━━━━━━━━━━━━━━━\u001b[0m\u001b[37m\u001b[0m \u001b[1m9s\u001b[0m 139ms/step - accuracy: 0.5402 - loss: 0.9940 - val_accuracy: 0.4872 - val_loss: 1.0713\n",
            "Epoch 5/12\n",
            "\u001b[1m23/23\u001b[0m \u001b[32m━━━━━━━━━━━━━━━━━━━━\u001b[0m\u001b[37m\u001b[0m \u001b[1m6s\u001b[0m 132ms/step - accuracy: 0.5734 - loss: 0.9695 - val_accuracy: 0.4936 - val_loss: 1.0684\n",
            "Epoch 6/12\n",
            "\u001b[1m23/23\u001b[0m \u001b[32m━━━━━━━━━━━━━━━━━━━━\u001b[0m\u001b[37m\u001b[0m \u001b[1m10s\u001b[0m 166ms/step - accuracy: 0.5255 - loss: 0.9705 - val_accuracy: 0.4615 - val_loss: 1.0773\n",
            "Epoch 7/12\n",
            "\u001b[1m23/23\u001b[0m \u001b[32m━━━━━━━━━━━━━━━━━━━━\u001b[0m\u001b[37m\u001b[0m \u001b[1m5s\u001b[0m 129ms/step - accuracy: 0.6324 - loss: 0.8582 - val_accuracy: 0.5000 - val_loss: 1.0358\n",
            "Epoch 8/12\n",
            "\u001b[1m23/23\u001b[0m \u001b[32m━━━━━━━━━━━━━━━━━━━━\u001b[0m\u001b[37m\u001b[0m \u001b[1m5s\u001b[0m 133ms/step - accuracy: 0.6214 - loss: 0.8865 - val_accuracy: 0.5385 - val_loss: 0.9888\n",
            "Epoch 9/12\n",
            "\u001b[1m23/23\u001b[0m \u001b[32m━━━━━━━━━━━━━━━━━━━━\u001b[0m\u001b[37m\u001b[0m \u001b[1m5s\u001b[0m 119ms/step - accuracy: 0.6389 - loss: 0.8332 - val_accuracy: 0.5192 - val_loss: 1.0095\n",
            "Epoch 10/12\n",
            "\u001b[1m23/23\u001b[0m \u001b[32m━━━━━━━━━━━━━━━━━━━━\u001b[0m\u001b[37m\u001b[0m \u001b[1m10s\u001b[0m 180ms/step - accuracy: 0.6761 - loss: 0.7867 - val_accuracy: 0.5641 - val_loss: 0.9874\n",
            "Epoch 11/12\n",
            "\u001b[1m23/23\u001b[0m \u001b[32m━━━━━━━━━━━━━━━━━━━━\u001b[0m\u001b[37m\u001b[0m \u001b[1m4s\u001b[0m 115ms/step - accuracy: 0.6877 - loss: 0.7509 - val_accuracy: 0.5128 - val_loss: 1.0040\n",
            "Epoch 12/12\n",
            "\u001b[1m23/23\u001b[0m \u001b[32m━━━━━━━━━━━━━━━━━━━━\u001b[0m\u001b[37m\u001b[0m \u001b[1m4s\u001b[0m 112ms/step - accuracy: 0.7109 - loss: 0.7612 - val_accuracy: 0.5256 - val_loss: 0.9920\n"
          ]
        }
      ]
    },
    {
      "cell_type": "code",
      "source": [
        "for layer in base.layers:\n",
        "    if \"block_13\" in layer.name or \"block_14\" in layer.name or \"block_15\" in layer.name:\n",
        "        layer.trainable = True\n",
        "    else:\n",
        "        layer.trainable = False\n",
        "\n",
        "model.compile(optimizer=tf.keras.optimizers.Adam(1e-4),\n",
        "              loss=loss_fn,\n",
        "              metrics=[\"accuracy\"])\n",
        "\n",
        "ft_ckpt = ARTIFACTS/\"best_finetune.keras\"\n",
        "callbacks = [\n",
        "    tf.keras.callbacks.ModelCheckpoint(ft_ckpt, save_best_only=True, monitor=\"val_accuracy\"),\n",
        "    tf.keras.callbacks.EarlyStopping(patience=8, restore_best_weights=True, monitor=\"val_accuracy\"),\n",
        "    tf.keras.callbacks.ReduceLROnPlateau(patience=3, factor=0.5, min_lr=1e-5, monitor=\"val_loss\")\n",
        "]\n",
        "history2 = model.fit(train_ds2, validation_data=val_ds2, epochs=EPOCHS, callbacks=callbacks)\n"
      ],
      "metadata": {
        "colab": {
          "base_uri": "https://localhost:8080/"
        },
        "id": "WAmtYOq0z5wQ",
        "outputId": "edf72b58-b400-4eca-a176-18727506cf20"
      },
      "execution_count": null,
      "outputs": [
        {
          "output_type": "stream",
          "name": "stdout",
          "text": [
            "Epoch 1/40\n",
            "\u001b[1m23/23\u001b[0m \u001b[32m━━━━━━━━━━━━━━━━━━━━\u001b[0m\u001b[37m\u001b[0m \u001b[1m18s\u001b[0m 300ms/step - accuracy: 0.5975 - loss: 0.9744 - val_accuracy: 0.5256 - val_loss: 1.0077 - learning_rate: 1.0000e-04\n",
            "Epoch 2/40\n",
            "\u001b[1m23/23\u001b[0m \u001b[32m━━━━━━━━━━━━━━━━━━━━\u001b[0m\u001b[37m\u001b[0m \u001b[1m7s\u001b[0m 197ms/step - accuracy: 0.6424 - loss: 0.8641 - val_accuracy: 0.5256 - val_loss: 0.9904 - learning_rate: 1.0000e-04\n",
            "Epoch 3/40\n",
            "\u001b[1m23/23\u001b[0m \u001b[32m━━━━━━━━━━━━━━━━━━━━\u001b[0m\u001b[37m\u001b[0m \u001b[1m6s\u001b[0m 174ms/step - accuracy: 0.7117 - loss: 0.7594 - val_accuracy: 0.5769 - val_loss: 0.9587 - learning_rate: 1.0000e-04\n",
            "Epoch 4/40\n",
            "\u001b[1m23/23\u001b[0m \u001b[32m━━━━━━━━━━━━━━━━━━━━\u001b[0m\u001b[37m\u001b[0m \u001b[1m11s\u001b[0m 159ms/step - accuracy: 0.7281 - loss: 0.6947 - val_accuracy: 0.5641 - val_loss: 0.9519 - learning_rate: 1.0000e-04\n",
            "Epoch 5/40\n",
            "\u001b[1m23/23\u001b[0m \u001b[32m━━━━━━━━━━━━━━━━━━━━\u001b[0m\u001b[37m\u001b[0m \u001b[1m5s\u001b[0m 148ms/step - accuracy: 0.6819 - loss: 0.7694 - val_accuracy: 0.5705 - val_loss: 0.9514 - learning_rate: 1.0000e-04\n",
            "Epoch 6/40\n",
            "\u001b[1m23/23\u001b[0m \u001b[32m━━━━━━━━━━━━━━━━━━━━\u001b[0m\u001b[37m\u001b[0m \u001b[1m6s\u001b[0m 188ms/step - accuracy: 0.7353 - loss: 0.6992 - val_accuracy: 0.5705 - val_loss: 0.9465 - learning_rate: 1.0000e-04\n",
            "Epoch 7/40\n",
            "\u001b[1m23/23\u001b[0m \u001b[32m━━━━━━━━━━━━━━━━━━━━\u001b[0m\u001b[37m\u001b[0m \u001b[1m5s\u001b[0m 148ms/step - accuracy: 0.7644 - loss: 0.6435 - val_accuracy: 0.5705 - val_loss: 0.9529 - learning_rate: 1.0000e-04\n",
            "Epoch 8/40\n",
            "\u001b[1m23/23\u001b[0m \u001b[32m━━━━━━━━━━━━━━━━━━━━\u001b[0m\u001b[37m\u001b[0m \u001b[1m7s\u001b[0m 222ms/step - accuracy: 0.8033 - loss: 0.5936 - val_accuracy: 0.5897 - val_loss: 0.9396 - learning_rate: 1.0000e-04\n",
            "Epoch 9/40\n",
            "\u001b[1m23/23\u001b[0m \u001b[32m━━━━━━━━━━━━━━━━━━━━\u001b[0m\u001b[37m\u001b[0m \u001b[1m5s\u001b[0m 148ms/step - accuracy: 0.7824 - loss: 0.6274 - val_accuracy: 0.5833 - val_loss: 0.9396 - learning_rate: 1.0000e-04\n",
            "Epoch 10/40\n",
            "\u001b[1m23/23\u001b[0m \u001b[32m━━━━━━━━━━━━━━━━━━━━\u001b[0m\u001b[37m\u001b[0m \u001b[1m7s\u001b[0m 226ms/step - accuracy: 0.8088 - loss: 0.5619 - val_accuracy: 0.6218 - val_loss: 0.9299 - learning_rate: 1.0000e-04\n",
            "Epoch 11/40\n",
            "\u001b[1m23/23\u001b[0m \u001b[32m━━━━━━━━━━━━━━━━━━━━\u001b[0m\u001b[37m\u001b[0m \u001b[1m10s\u001b[0m 194ms/step - accuracy: 0.8046 - loss: 0.5824 - val_accuracy: 0.6282 - val_loss: 0.9281 - learning_rate: 1.0000e-04\n",
            "Epoch 12/40\n",
            "\u001b[1m23/23\u001b[0m \u001b[32m━━━━━━━━━━━━━━━━━━━━\u001b[0m\u001b[37m\u001b[0m \u001b[1m6s\u001b[0m 160ms/step - accuracy: 0.8258 - loss: 0.5507 - val_accuracy: 0.6282 - val_loss: 0.9194 - learning_rate: 1.0000e-04\n",
            "Epoch 13/40\n",
            "\u001b[1m23/23\u001b[0m \u001b[32m━━━━━━━━━━━━━━━━━━━━\u001b[0m\u001b[37m\u001b[0m \u001b[1m6s\u001b[0m 171ms/step - accuracy: 0.8403 - loss: 0.5235 - val_accuracy: 0.6346 - val_loss: 0.9272 - learning_rate: 1.0000e-04\n",
            "Epoch 14/40\n",
            "\u001b[1m23/23\u001b[0m \u001b[32m━━━━━━━━━━━━━━━━━━━━\u001b[0m\u001b[37m\u001b[0m \u001b[1m7s\u001b[0m 215ms/step - accuracy: 0.8457 - loss: 0.5071 - val_accuracy: 0.6538 - val_loss: 0.9041 - learning_rate: 1.0000e-04\n",
            "Epoch 15/40\n",
            "\u001b[1m23/23\u001b[0m \u001b[32m━━━━━━━━━━━━━━━━━━━━\u001b[0m\u001b[37m\u001b[0m \u001b[1m6s\u001b[0m 172ms/step - accuracy: 0.8425 - loss: 0.4956 - val_accuracy: 0.6731 - val_loss: 0.9073 - learning_rate: 1.0000e-04\n",
            "Epoch 16/40\n",
            "\u001b[1m23/23\u001b[0m \u001b[32m━━━━━━━━━━━━━━━━━━━━\u001b[0m\u001b[37m\u001b[0m \u001b[1m6s\u001b[0m 203ms/step - accuracy: 0.8740 - loss: 0.4568 - val_accuracy: 0.6603 - val_loss: 0.8862 - learning_rate: 1.0000e-04\n",
            "Epoch 17/40\n",
            "\u001b[1m23/23\u001b[0m \u001b[32m━━━━━━━━━━━━━━━━━━━━\u001b[0m\u001b[37m\u001b[0m \u001b[1m5s\u001b[0m 149ms/step - accuracy: 0.8881 - loss: 0.4355 - val_accuracy: 0.6346 - val_loss: 0.9045 - learning_rate: 1.0000e-04\n",
            "Epoch 18/40\n",
            "\u001b[1m23/23\u001b[0m \u001b[32m━━━━━━━━━━━━━━━━━━━━\u001b[0m\u001b[37m\u001b[0m \u001b[1m6s\u001b[0m 202ms/step - accuracy: 0.8898 - loss: 0.4336 - val_accuracy: 0.6474 - val_loss: 0.8893 - learning_rate: 1.0000e-04\n",
            "Epoch 19/40\n",
            "\u001b[1m23/23\u001b[0m \u001b[32m━━━━━━━━━━━━━━━━━━━━\u001b[0m\u001b[37m\u001b[0m \u001b[1m5s\u001b[0m 149ms/step - accuracy: 0.8801 - loss: 0.4480 - val_accuracy: 0.6346 - val_loss: 0.9041 - learning_rate: 1.0000e-04\n",
            "Epoch 20/40\n",
            "\u001b[1m23/23\u001b[0m \u001b[32m━━━━━━━━━━━━━━━━━━━━\u001b[0m\u001b[37m\u001b[0m \u001b[1m5s\u001b[0m 157ms/step - accuracy: 0.9026 - loss: 0.4248 - val_accuracy: 0.6538 - val_loss: 0.8979 - learning_rate: 5.0000e-05\n",
            "Epoch 21/40\n",
            "\u001b[1m23/23\u001b[0m \u001b[32m━━━━━━━━━━━━━━━━━━━━\u001b[0m\u001b[37m\u001b[0m \u001b[1m10s\u001b[0m 151ms/step - accuracy: 0.8968 - loss: 0.4232 - val_accuracy: 0.6603 - val_loss: 0.8992 - learning_rate: 5.0000e-05\n",
            "Epoch 22/40\n",
            "\u001b[1m23/23\u001b[0m \u001b[32m━━━━━━━━━━━━━━━━━━━━\u001b[0m\u001b[37m\u001b[0m \u001b[1m6s\u001b[0m 192ms/step - accuracy: 0.9080 - loss: 0.4034 - val_accuracy: 0.6410 - val_loss: 0.9074 - learning_rate: 5.0000e-05\n",
            "Epoch 23/40\n",
            "\u001b[1m23/23\u001b[0m \u001b[32m━━━━━━━━━━━━━━━━━━━━\u001b[0m\u001b[37m\u001b[0m \u001b[1m5s\u001b[0m 151ms/step - accuracy: 0.9040 - loss: 0.4121 - val_accuracy: 0.6538 - val_loss: 0.8957 - learning_rate: 2.5000e-05\n"
          ]
        }
      ]
    },
    {
      "cell_type": "code",
      "source": [
        "test_loss, test_acc = model.evaluate(test_ds2)\n",
        "print(f\"✅ Test accuracy: {test_acc:.3f}\")"
      ],
      "metadata": {
        "colab": {
          "base_uri": "https://localhost:8080/"
        },
        "id": "ai1-g38-pNQW",
        "outputId": "657e6545-d2f0-4373-8c25-eb8e31d1e0b8"
      },
      "execution_count": null,
      "outputs": [
        {
          "output_type": "stream",
          "name": "stdout",
          "text": [
            "\u001b[1m12/12\u001b[0m \u001b[32m━━━━━━━━━━━━━━━━━━━━\u001b[0m\u001b[37m\u001b[0m \u001b[1m1s\u001b[0m 97ms/step - accuracy: 0.7742 - loss: 0.6632\n",
            "✅ Test accuracy: 0.695\n"
          ]
        }
      ]
    },
    {
      "cell_type": "markdown",
      "source": [
        "Convert to TFLITE file for uploading to Edge Impulse"
      ],
      "metadata": {
        "id": "WVX6hkzj-pEY"
      }
    },
    {
      "cell_type": "code",
      "source": [
        "def representative_data_gen():\n",
        "    for images, _ in train_ds.take(100):\n",
        "        # MobileNetV2 training used preprocess_input([-1,1]),\n",
        "        # but for full INT8 with uint8 I/O we feed [0..1] then scale in post-training\n",
        "        yield [tf.cast(images, tf.float32)/255.0]\n",
        "\n",
        "converter = tf.lite.TFLiteConverter.from_keras_model(model)\n",
        "converter.optimizations = [tf.lite.Optimize.DEFAULT]\n",
        "converter.representative_dataset = representative_data_gen\n",
        "converter.target_spec.supported_ops = [tf.lite.OpsSet.TFLITE_BUILTINS_INT8]\n",
        "converter.inference_input_type = tf.uint8\n",
        "converter.inference_output_type = tf.uint8\n",
        "tflite_model = converter.convert()\n",
        "\n",
        "tflite_path = ARTIFACTS/\"carbrand_mnv2_3Classes_int8.tflite\"\n",
        "with open(tflite_path,\"wb\") as f: f.write(tflite_model)\n",
        "print(\"TFLite size (bytes):\", tflite_path.stat().st_size)\n"
      ],
      "metadata": {
        "colab": {
          "base_uri": "https://localhost:8080/"
        },
        "id": "2VxYjPQUpNN5",
        "outputId": "fb961efb-5278-403d-9d70-c75d5307a955"
      },
      "execution_count": 31,
      "outputs": [
        {
          "output_type": "stream",
          "name": "stdout",
          "text": [
            "Saved artifact at '/tmp/tmpzlq7w1_i'. The following endpoints are available:\n",
            "\n",
            "* Endpoint 'serve'\n",
            "  args_0 (POSITIONAL_ONLY): TensorSpec(shape=(None, 96, 96, 3), dtype=tf.float32, name='keras_tensor_488')\n",
            "Output Type:\n",
            "  TensorSpec(shape=(None, 3), dtype=tf.float32, name=None)\n",
            "Captures:\n",
            "  133911349044304: TensorSpec(shape=(), dtype=tf.resource, name=None)\n",
            "  133911349045840: TensorSpec(shape=(), dtype=tf.resource, name=None)\n",
            "  133911349045648: TensorSpec(shape=(), dtype=tf.resource, name=None)\n",
            "  133911349045072: TensorSpec(shape=(), dtype=tf.resource, name=None)\n",
            "  133911349046416: TensorSpec(shape=(), dtype=tf.resource, name=None)\n",
            "  133911349044496: TensorSpec(shape=(), dtype=tf.resource, name=None)\n",
            "  133911349046032: TensorSpec(shape=(), dtype=tf.resource, name=None)\n",
            "  133911349046224: TensorSpec(shape=(), dtype=tf.resource, name=None)\n",
            "  133911349045264: TensorSpec(shape=(), dtype=tf.resource, name=None)\n",
            "  133911349047376: TensorSpec(shape=(), dtype=tf.resource, name=None)\n",
            "  133911349046800: TensorSpec(shape=(), dtype=tf.resource, name=None)\n",
            "  133911349046992: TensorSpec(shape=(), dtype=tf.resource, name=None)\n",
            "  133911349047184: TensorSpec(shape=(), dtype=tf.resource, name=None)\n",
            "  133911349044688: TensorSpec(shape=(), dtype=tf.resource, name=None)\n",
            "  133911349048336: TensorSpec(shape=(), dtype=tf.resource, name=None)\n",
            "  133911349047760: TensorSpec(shape=(), dtype=tf.resource, name=None)\n",
            "  133911349047952: TensorSpec(shape=(), dtype=tf.resource, name=None)\n",
            "  133911349048144: TensorSpec(shape=(), dtype=tf.resource, name=None)\n",
            "  133911349045456: TensorSpec(shape=(), dtype=tf.resource, name=None)\n",
            "  133911349049296: TensorSpec(shape=(), dtype=tf.resource, name=None)\n",
            "  133911349048720: TensorSpec(shape=(), dtype=tf.resource, name=None)\n",
            "  133911349048912: TensorSpec(shape=(), dtype=tf.resource, name=None)\n",
            "  133911349049104: TensorSpec(shape=(), dtype=tf.resource, name=None)\n",
            "  133911349046608: TensorSpec(shape=(), dtype=tf.resource, name=None)\n",
            "  133911349050256: TensorSpec(shape=(), dtype=tf.resource, name=None)\n",
            "  133911349049680: TensorSpec(shape=(), dtype=tf.resource, name=None)\n",
            "  133911349049872: TensorSpec(shape=(), dtype=tf.resource, name=None)\n",
            "  133911349050640: TensorSpec(shape=(), dtype=tf.resource, name=None)\n",
            "  133911349047568: TensorSpec(shape=(), dtype=tf.resource, name=None)\n",
            "  133911349051216: TensorSpec(shape=(), dtype=tf.resource, name=None)\n",
            "  133911349050064: TensorSpec(shape=(), dtype=tf.resource, name=None)\n",
            "  133911349050832: TensorSpec(shape=(), dtype=tf.resource, name=None)\n",
            "  133911349048528: TensorSpec(shape=(), dtype=tf.resource, name=None)\n",
            "  133911349051024: TensorSpec(shape=(), dtype=tf.resource, name=None)\n",
            "  133911349050448: TensorSpec(shape=(), dtype=tf.resource, name=None)\n",
            "  133911349049488: TensorSpec(shape=(), dtype=tf.resource, name=None)\n",
            "  133911348233808: TensorSpec(shape=(), dtype=tf.resource, name=None)\n",
            "  133911348234000: TensorSpec(shape=(), dtype=tf.resource, name=None)\n",
            "  133911348233232: TensorSpec(shape=(), dtype=tf.resource, name=None)\n",
            "  133911348232656: TensorSpec(shape=(), dtype=tf.resource, name=None)\n",
            "  133911348232464: TensorSpec(shape=(), dtype=tf.resource, name=None)\n",
            "  133911348233616: TensorSpec(shape=(), dtype=tf.resource, name=None)\n",
            "  133911348233424: TensorSpec(shape=(), dtype=tf.resource, name=None)\n",
            "  133911348233040: TensorSpec(shape=(), dtype=tf.resource, name=None)\n",
            "  133911348234960: TensorSpec(shape=(), dtype=tf.resource, name=None)\n",
            "  133911348234384: TensorSpec(shape=(), dtype=tf.resource, name=None)\n",
            "  133911348234576: TensorSpec(shape=(), dtype=tf.resource, name=None)\n",
            "  133911348234768: TensorSpec(shape=(), dtype=tf.resource, name=None)\n",
            "  133911348232272: TensorSpec(shape=(), dtype=tf.resource, name=None)\n",
            "  133911348235920: TensorSpec(shape=(), dtype=tf.resource, name=None)\n",
            "  133911348235344: TensorSpec(shape=(), dtype=tf.resource, name=None)\n",
            "  133911348235536: TensorSpec(shape=(), dtype=tf.resource, name=None)\n",
            "  133911348235728: TensorSpec(shape=(), dtype=tf.resource, name=None)\n",
            "  133911348232848: TensorSpec(shape=(), dtype=tf.resource, name=None)\n",
            "  133911348236880: TensorSpec(shape=(), dtype=tf.resource, name=None)\n",
            "  133911348236304: TensorSpec(shape=(), dtype=tf.resource, name=None)\n",
            "  133911348236496: TensorSpec(shape=(), dtype=tf.resource, name=None)\n",
            "  133911348236688: TensorSpec(shape=(), dtype=tf.resource, name=None)\n",
            "  133911348234192: TensorSpec(shape=(), dtype=tf.resource, name=None)\n",
            "  133911348237840: TensorSpec(shape=(), dtype=tf.resource, name=None)\n",
            "  133911348237264: TensorSpec(shape=(), dtype=tf.resource, name=None)\n",
            "  133911348237456: TensorSpec(shape=(), dtype=tf.resource, name=None)\n",
            "  133911348237648: TensorSpec(shape=(), dtype=tf.resource, name=None)\n",
            "  133911348235152: TensorSpec(shape=(), dtype=tf.resource, name=None)\n",
            "  133911348238800: TensorSpec(shape=(), dtype=tf.resource, name=None)\n",
            "  133911348238224: TensorSpec(shape=(), dtype=tf.resource, name=None)\n",
            "  133911348238416: TensorSpec(shape=(), dtype=tf.resource, name=None)\n",
            "  133911348238608: TensorSpec(shape=(), dtype=tf.resource, name=None)\n",
            "  133911348236112: TensorSpec(shape=(), dtype=tf.resource, name=None)\n",
            "  133911348239760: TensorSpec(shape=(), dtype=tf.resource, name=None)\n",
            "  133911348239184: TensorSpec(shape=(), dtype=tf.resource, name=None)\n",
            "  133911348239376: TensorSpec(shape=(), dtype=tf.resource, name=None)\n",
            "  133911348239568: TensorSpec(shape=(), dtype=tf.resource, name=None)\n",
            "  133911348237072: TensorSpec(shape=(), dtype=tf.resource, name=None)\n",
            "  133911348240720: TensorSpec(shape=(), dtype=tf.resource, name=None)\n",
            "  133911348240144: TensorSpec(shape=(), dtype=tf.resource, name=None)\n",
            "  133911348240336: TensorSpec(shape=(), dtype=tf.resource, name=None)\n",
            "  133911348240528: TensorSpec(shape=(), dtype=tf.resource, name=None)\n",
            "  133911348238032: TensorSpec(shape=(), dtype=tf.resource, name=None)\n",
            "  133911348241680: TensorSpec(shape=(), dtype=tf.resource, name=None)\n",
            "  133911348241104: TensorSpec(shape=(), dtype=tf.resource, name=None)\n",
            "  133911348241296: TensorSpec(shape=(), dtype=tf.resource, name=None)\n",
            "  133911348241488: TensorSpec(shape=(), dtype=tf.resource, name=None)\n",
            "  133911348238992: TensorSpec(shape=(), dtype=tf.resource, name=None)\n",
            "  133911348242640: TensorSpec(shape=(), dtype=tf.resource, name=None)\n",
            "  133911348242064: TensorSpec(shape=(), dtype=tf.resource, name=None)\n",
            "  133911348242256: TensorSpec(shape=(), dtype=tf.resource, name=None)\n",
            "  133911348242448: TensorSpec(shape=(), dtype=tf.resource, name=None)\n",
            "  133911348239952: TensorSpec(shape=(), dtype=tf.resource, name=None)\n",
            "  133911348243600: TensorSpec(shape=(), dtype=tf.resource, name=None)\n",
            "  133911348243024: TensorSpec(shape=(), dtype=tf.resource, name=None)\n",
            "  133911348243216: TensorSpec(shape=(), dtype=tf.resource, name=None)\n",
            "  133911348243408: TensorSpec(shape=(), dtype=tf.resource, name=None)\n",
            "  133911348240912: TensorSpec(shape=(), dtype=tf.resource, name=None)\n",
            "  133911348244560: TensorSpec(shape=(), dtype=tf.resource, name=None)\n",
            "  133911348243984: TensorSpec(shape=(), dtype=tf.resource, name=None)\n",
            "  133911348244176: TensorSpec(shape=(), dtype=tf.resource, name=None)\n",
            "  133911348244368: TensorSpec(shape=(), dtype=tf.resource, name=None)\n",
            "  133911348241872: TensorSpec(shape=(), dtype=tf.resource, name=None)\n",
            "  133911348245520: TensorSpec(shape=(), dtype=tf.resource, name=None)\n",
            "  133911348244944: TensorSpec(shape=(), dtype=tf.resource, name=None)\n",
            "  133911348245136: TensorSpec(shape=(), dtype=tf.resource, name=None)\n",
            "  133911348245328: TensorSpec(shape=(), dtype=tf.resource, name=None)\n",
            "  133911348242832: TensorSpec(shape=(), dtype=tf.resource, name=None)\n",
            "  133911348246480: TensorSpec(shape=(), dtype=tf.resource, name=None)\n",
            "  133911348245904: TensorSpec(shape=(), dtype=tf.resource, name=None)\n",
            "  133911348246096: TensorSpec(shape=(), dtype=tf.resource, name=None)\n",
            "  133911348246288: TensorSpec(shape=(), dtype=tf.resource, name=None)\n",
            "  133911348243792: TensorSpec(shape=(), dtype=tf.resource, name=None)\n",
            "  133911348247440: TensorSpec(shape=(), dtype=tf.resource, name=None)\n",
            "  133911348246864: TensorSpec(shape=(), dtype=tf.resource, name=None)\n",
            "  133911348247056: TensorSpec(shape=(), dtype=tf.resource, name=None)\n",
            "  133911348247824: TensorSpec(shape=(), dtype=tf.resource, name=None)\n",
            "  133911348244752: TensorSpec(shape=(), dtype=tf.resource, name=None)\n",
            "  133911348248400: TensorSpec(shape=(), dtype=tf.resource, name=None)\n",
            "  133911348247248: TensorSpec(shape=(), dtype=tf.resource, name=None)\n",
            "  133911348248016: TensorSpec(shape=(), dtype=tf.resource, name=None)\n",
            "  133911348245712: TensorSpec(shape=(), dtype=tf.resource, name=None)\n",
            "  133911348248208: TensorSpec(shape=(), dtype=tf.resource, name=None)\n",
            "  133911348247632: TensorSpec(shape=(), dtype=tf.resource, name=None)\n",
            "  133911348246672: TensorSpec(shape=(), dtype=tf.resource, name=None)\n",
            "  133911347037776: TensorSpec(shape=(), dtype=tf.resource, name=None)\n",
            "  133911347037968: TensorSpec(shape=(), dtype=tf.resource, name=None)\n",
            "  133911347037200: TensorSpec(shape=(), dtype=tf.resource, name=None)\n",
            "  133911347036624: TensorSpec(shape=(), dtype=tf.resource, name=None)\n",
            "  133911347036432: TensorSpec(shape=(), dtype=tf.resource, name=None)\n",
            "  133911347037584: TensorSpec(shape=(), dtype=tf.resource, name=None)\n",
            "  133911347037392: TensorSpec(shape=(), dtype=tf.resource, name=None)\n",
            "  133911347037008: TensorSpec(shape=(), dtype=tf.resource, name=None)\n",
            "  133911347038928: TensorSpec(shape=(), dtype=tf.resource, name=None)\n",
            "  133911347038352: TensorSpec(shape=(), dtype=tf.resource, name=None)\n",
            "  133911347038544: TensorSpec(shape=(), dtype=tf.resource, name=None)\n",
            "  133911347038736: TensorSpec(shape=(), dtype=tf.resource, name=None)\n",
            "  133911347036240: TensorSpec(shape=(), dtype=tf.resource, name=None)\n",
            "  133911347039888: TensorSpec(shape=(), dtype=tf.resource, name=None)\n",
            "  133911347039312: TensorSpec(shape=(), dtype=tf.resource, name=None)\n",
            "  133911347039504: TensorSpec(shape=(), dtype=tf.resource, name=None)\n",
            "  133911347039696: TensorSpec(shape=(), dtype=tf.resource, name=None)\n",
            "  133911347036816: TensorSpec(shape=(), dtype=tf.resource, name=None)\n",
            "  133911347040848: TensorSpec(shape=(), dtype=tf.resource, name=None)\n",
            "  133911347040272: TensorSpec(shape=(), dtype=tf.resource, name=None)\n",
            "  133911347040464: TensorSpec(shape=(), dtype=tf.resource, name=None)\n",
            "  133911347040656: TensorSpec(shape=(), dtype=tf.resource, name=None)\n",
            "  133911347038160: TensorSpec(shape=(), dtype=tf.resource, name=None)\n",
            "  133911347041808: TensorSpec(shape=(), dtype=tf.resource, name=None)\n",
            "  133911347041232: TensorSpec(shape=(), dtype=tf.resource, name=None)\n",
            "  133911347041424: TensorSpec(shape=(), dtype=tf.resource, name=None)\n",
            "  133911347041616: TensorSpec(shape=(), dtype=tf.resource, name=None)\n",
            "  133911347039120: TensorSpec(shape=(), dtype=tf.resource, name=None)\n",
            "  133911347042768: TensorSpec(shape=(), dtype=tf.resource, name=None)\n",
            "  133911347042192: TensorSpec(shape=(), dtype=tf.resource, name=None)\n",
            "  133911347042384: TensorSpec(shape=(), dtype=tf.resource, name=None)\n",
            "  133911347042576: TensorSpec(shape=(), dtype=tf.resource, name=None)\n",
            "  133911347040080: TensorSpec(shape=(), dtype=tf.resource, name=None)\n",
            "  133911347043728: TensorSpec(shape=(), dtype=tf.resource, name=None)\n",
            "  133911347043152: TensorSpec(shape=(), dtype=tf.resource, name=None)\n",
            "  133911347043344: TensorSpec(shape=(), dtype=tf.resource, name=None)\n",
            "  133911347043536: TensorSpec(shape=(), dtype=tf.resource, name=None)\n",
            "  133911347041040: TensorSpec(shape=(), dtype=tf.resource, name=None)\n",
            "  133911347044688: TensorSpec(shape=(), dtype=tf.resource, name=None)\n",
            "  133911347044112: TensorSpec(shape=(), dtype=tf.resource, name=None)\n",
            "  133911347044304: TensorSpec(shape=(), dtype=tf.resource, name=None)\n",
            "  133911347044496: TensorSpec(shape=(), dtype=tf.resource, name=None)\n",
            "  133911347042000: TensorSpec(shape=(), dtype=tf.resource, name=None)\n",
            "  133911347045648: TensorSpec(shape=(), dtype=tf.resource, name=None)\n",
            "  133911347045072: TensorSpec(shape=(), dtype=tf.resource, name=None)\n",
            "  133911347045264: TensorSpec(shape=(), dtype=tf.resource, name=None)\n",
            "  133911347045456: TensorSpec(shape=(), dtype=tf.resource, name=None)\n",
            "  133911347042960: TensorSpec(shape=(), dtype=tf.resource, name=None)\n",
            "  133911347046608: TensorSpec(shape=(), dtype=tf.resource, name=None)\n",
            "  133911347046032: TensorSpec(shape=(), dtype=tf.resource, name=None)\n",
            "  133911347046224: TensorSpec(shape=(), dtype=tf.resource, name=None)\n",
            "  133911347046416: TensorSpec(shape=(), dtype=tf.resource, name=None)\n",
            "  133911347043920: TensorSpec(shape=(), dtype=tf.resource, name=None)\n",
            "  133911347047568: TensorSpec(shape=(), dtype=tf.resource, name=None)\n",
            "  133911347046992: TensorSpec(shape=(), dtype=tf.resource, name=None)\n",
            "  133911347047184: TensorSpec(shape=(), dtype=tf.resource, name=None)\n",
            "  133911347047376: TensorSpec(shape=(), dtype=tf.resource, name=None)\n",
            "  133911347044880: TensorSpec(shape=(), dtype=tf.resource, name=None)\n",
            "  133911347048528: TensorSpec(shape=(), dtype=tf.resource, name=None)\n",
            "  133911347047952: TensorSpec(shape=(), dtype=tf.resource, name=None)\n",
            "  133911347048144: TensorSpec(shape=(), dtype=tf.resource, name=None)\n",
            "  133911347048336: TensorSpec(shape=(), dtype=tf.resource, name=None)\n",
            "  133911347045840: TensorSpec(shape=(), dtype=tf.resource, name=None)\n",
            "  133911347049488: TensorSpec(shape=(), dtype=tf.resource, name=None)\n",
            "  133911347048912: TensorSpec(shape=(), dtype=tf.resource, name=None)\n",
            "  133911347049104: TensorSpec(shape=(), dtype=tf.resource, name=None)\n",
            "  133911347049296: TensorSpec(shape=(), dtype=tf.resource, name=None)\n",
            "  133911347046800: TensorSpec(shape=(), dtype=tf.resource, name=None)\n",
            "  133911347050448: TensorSpec(shape=(), dtype=tf.resource, name=None)\n",
            "  133911347049872: TensorSpec(shape=(), dtype=tf.resource, name=None)\n",
            "  133911347050064: TensorSpec(shape=(), dtype=tf.resource, name=None)\n",
            "  133911347050256: TensorSpec(shape=(), dtype=tf.resource, name=None)\n",
            "  133911347047760: TensorSpec(shape=(), dtype=tf.resource, name=None)\n",
            "  133911347051408: TensorSpec(shape=(), dtype=tf.resource, name=None)\n",
            "  133911347050832: TensorSpec(shape=(), dtype=tf.resource, name=None)\n",
            "  133911347051024: TensorSpec(shape=(), dtype=tf.resource, name=None)\n",
            "  133911347051792: TensorSpec(shape=(), dtype=tf.resource, name=None)\n",
            "  133911347048720: TensorSpec(shape=(), dtype=tf.resource, name=None)\n",
            "  133911347052368: TensorSpec(shape=(), dtype=tf.resource, name=None)\n",
            "  133911347051216: TensorSpec(shape=(), dtype=tf.resource, name=None)\n",
            "  133911347051984: TensorSpec(shape=(), dtype=tf.resource, name=None)\n",
            "  133911347049680: TensorSpec(shape=(), dtype=tf.resource, name=None)\n",
            "  133911347052176: TensorSpec(shape=(), dtype=tf.resource, name=None)\n",
            "  133911347051600: TensorSpec(shape=(), dtype=tf.resource, name=None)\n",
            "  133911347050640: TensorSpec(shape=(), dtype=tf.resource, name=None)\n",
            "  133911345841360: TensorSpec(shape=(), dtype=tf.resource, name=None)\n",
            "  133911345841168: TensorSpec(shape=(), dtype=tf.resource, name=None)\n",
            "  133911345840784: TensorSpec(shape=(), dtype=tf.resource, name=None)\n",
            "  133911345841936: TensorSpec(shape=(), dtype=tf.resource, name=None)\n",
            "  133911345840400: TensorSpec(shape=(), dtype=tf.resource, name=None)\n",
            "  133911345841552: TensorSpec(shape=(), dtype=tf.resource, name=None)\n",
            "  133911345841744: TensorSpec(shape=(), dtype=tf.resource, name=None)\n",
            "  133911345840976: TensorSpec(shape=(), dtype=tf.resource, name=None)\n",
            "  133911345842896: TensorSpec(shape=(), dtype=tf.resource, name=None)\n",
            "  133911345842320: TensorSpec(shape=(), dtype=tf.resource, name=None)\n",
            "  133911345842512: TensorSpec(shape=(), dtype=tf.resource, name=None)\n",
            "  133911345842704: TensorSpec(shape=(), dtype=tf.resource, name=None)\n",
            "  133911345840592: TensorSpec(shape=(), dtype=tf.resource, name=None)\n",
            "  133911345843856: TensorSpec(shape=(), dtype=tf.resource, name=None)\n",
            "  133911345843280: TensorSpec(shape=(), dtype=tf.resource, name=None)\n",
            "  133911345843472: TensorSpec(shape=(), dtype=tf.resource, name=None)\n",
            "  133911345843664: TensorSpec(shape=(), dtype=tf.resource, name=None)\n",
            "  133911345840208: TensorSpec(shape=(), dtype=tf.resource, name=None)\n",
            "  133911345844816: TensorSpec(shape=(), dtype=tf.resource, name=None)\n",
            "  133911345844240: TensorSpec(shape=(), dtype=tf.resource, name=None)\n",
            "  133911345844432: TensorSpec(shape=(), dtype=tf.resource, name=None)\n",
            "  133911345844624: TensorSpec(shape=(), dtype=tf.resource, name=None)\n",
            "  133911345842128: TensorSpec(shape=(), dtype=tf.resource, name=None)\n",
            "  133911345845776: TensorSpec(shape=(), dtype=tf.resource, name=None)\n",
            "  133911345845200: TensorSpec(shape=(), dtype=tf.resource, name=None)\n",
            "  133911345845392: TensorSpec(shape=(), dtype=tf.resource, name=None)\n",
            "  133911345845584: TensorSpec(shape=(), dtype=tf.resource, name=None)\n",
            "  133911345843088: TensorSpec(shape=(), dtype=tf.resource, name=None)\n",
            "  133911345846736: TensorSpec(shape=(), dtype=tf.resource, name=None)\n",
            "  133911345846160: TensorSpec(shape=(), dtype=tf.resource, name=None)\n",
            "  133911345846352: TensorSpec(shape=(), dtype=tf.resource, name=None)\n",
            "  133911345846544: TensorSpec(shape=(), dtype=tf.resource, name=None)\n",
            "  133911345844048: TensorSpec(shape=(), dtype=tf.resource, name=None)\n",
            "  133911345847696: TensorSpec(shape=(), dtype=tf.resource, name=None)\n",
            "  133911345847120: TensorSpec(shape=(), dtype=tf.resource, name=None)\n",
            "  133911345847312: TensorSpec(shape=(), dtype=tf.resource, name=None)\n",
            "  133911345847504: TensorSpec(shape=(), dtype=tf.resource, name=None)\n",
            "  133911345845008: TensorSpec(shape=(), dtype=tf.resource, name=None)\n",
            "  133911345848656: TensorSpec(shape=(), dtype=tf.resource, name=None)\n",
            "  133911345848080: TensorSpec(shape=(), dtype=tf.resource, name=None)\n",
            "  133911345848272: TensorSpec(shape=(), dtype=tf.resource, name=None)\n",
            "  133911345848464: TensorSpec(shape=(), dtype=tf.resource, name=None)\n",
            "  133911345845968: TensorSpec(shape=(), dtype=tf.resource, name=None)\n",
            "  133911345849616: TensorSpec(shape=(), dtype=tf.resource, name=None)\n",
            "  133911345849040: TensorSpec(shape=(), dtype=tf.resource, name=None)\n",
            "  133911345849232: TensorSpec(shape=(), dtype=tf.resource, name=None)\n",
            "  133911345849424: TensorSpec(shape=(), dtype=tf.resource, name=None)\n",
            "  133911345846928: TensorSpec(shape=(), dtype=tf.resource, name=None)\n",
            "  133911345850576: TensorSpec(shape=(), dtype=tf.resource, name=None)\n",
            "  133911345850000: TensorSpec(shape=(), dtype=tf.resource, name=None)\n",
            "  133911345850192: TensorSpec(shape=(), dtype=tf.resource, name=None)\n",
            "  133911345850384: TensorSpec(shape=(), dtype=tf.resource, name=None)\n",
            "  133911345847888: TensorSpec(shape=(), dtype=tf.resource, name=None)\n",
            "  133911345851536: TensorSpec(shape=(), dtype=tf.resource, name=None)\n",
            "  133911345849808: TensorSpec(shape=(), dtype=tf.resource, name=None)\n",
            "  133911345848848: TensorSpec(shape=(), dtype=tf.resource, name=None)\n"
          ]
        },
        {
          "output_type": "stream",
          "name": "stderr",
          "text": [
            "/usr/local/lib/python3.12/dist-packages/tensorflow/lite/python/convert.py:854: UserWarning: Statistics for quantized inputs were expected, but not specified; continuing anyway.\n",
            "  warnings.warn(\n"
          ]
        },
        {
          "output_type": "stream",
          "name": "stdout",
          "text": [
            "TFLite size (bytes): 975960\n"
          ]
        }
      ]
    },
    {
      "cell_type": "code",
      "source": [],
      "metadata": {
        "id": "qYCJgmxypNLm"
      },
      "execution_count": null,
      "outputs": []
    },
    {
      "cell_type": "code",
      "source": [],
      "metadata": {
        "id": "8VTJrJ47F5jL"
      },
      "execution_count": null,
      "outputs": []
    }
  ]
}